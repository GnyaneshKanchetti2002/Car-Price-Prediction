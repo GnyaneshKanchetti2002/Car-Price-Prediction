{
 "cells": [
  {
   "attachments": {},
   "cell_type": "markdown",
   "id": "bb6f60bf",
   "metadata": {},
   "source": [
    "# Multiple Linear Regression Assignment"
   ]
  },
  {
   "attachments": {},
   "cell_type": "markdown",
   "id": "eb92d4bd",
   "metadata": {},
   "source": [
    "####       Importing all the neccessary libraries"
   ]
  },
  {
   "cell_type": "code",
   "execution_count": null,
   "id": "a4704c80",
   "metadata": {},
   "outputs": [],
   "source": [
    "import warnings\n",
    "warnings.filterwarnings('ignore')"
   ]
  },
  {
   "cell_type": "code",
   "execution_count": null,
   "id": "67c1c3d0",
   "metadata": {},
   "outputs": [],
   "source": [
    "import numpy as np\n",
    "import pandas as pd\n",
    "import matplotlib.pyplot as plt\n",
    "import seaborn as sns\n",
    "import sklearn \n",
    "from sklearn.model_selection import train_test_split\n",
    "from sklearn.preprocessing import MinMaxScaler\n",
    "from sklearn.feature_selection import RFE\n",
    "from sklearn.linear_model import LinearRegression\n",
    "import statsmodels.api as sm\n",
    "from statsmodels.stats.outliers_influence import variance_inflation_factor\n",
    "from sklearn.metrics import r2_score"
   ]
  },
  {
   "cell_type": "code",
   "execution_count": null,
   "id": "5cf38e89",
   "metadata": {},
   "outputs": [],
   "source": [
    "pd.set_option('display.max_rows', 500)\n",
    "pd.set_option('display.max_columns', 500)\n",
    "pd.set_option('display.width', 1000)\n",
    "pd.set_option('display.expand_frame_repr', False)"
   ]
  },
  {
   "attachments": {},
   "cell_type": "markdown",
   "id": "b78f846d",
   "metadata": {},
   "source": [
    "  ### Reading the csv file"
   ]
  },
  {
   "cell_type": "code",
   "execution_count": null,
   "id": "bd6f8d7f",
   "metadata": {},
   "outputs": [],
   "source": [
    "CarPrices = pd.read_csv(r\"D:\\Data Science and Analytics\\CarPrice_Assignment.csv\")\n",
    "CarPrices.head()"
   ]
  },
  {
   "attachments": {},
   "cell_type": "markdown",
   "id": "6bb31f17",
   "metadata": {},
   "source": [
    "### Understanding and Handling the data set"
   ]
  },
  {
   "cell_type": "code",
   "execution_count": null,
   "id": "90014819",
   "metadata": {},
   "outputs": [],
   "source": [
    "CarPrices.shape"
   ]
  },
  {
   "cell_type": "code",
   "execution_count": null,
   "id": "6e5b2b9f",
   "metadata": {},
   "outputs": [],
   "source": [
    "CarPrices.info()"
   ]
  },
  {
   "cell_type": "code",
   "execution_count": null,
   "id": "278fa8ad",
   "metadata": {},
   "outputs": [],
   "source": [
    "CarPrices.isnull().sum()"
   ]
  },
  {
   "cell_type": "code",
   "execution_count": null,
   "id": "e50bc716",
   "metadata": {},
   "outputs": [],
   "source": [
    "CarPrices.describe()"
   ]
  },
  {
   "cell_type": "code",
   "execution_count": null,
   "id": "94863d20",
   "metadata": {},
   "outputs": [],
   "source": [
    "CarPrices['CarName']"
   ]
  },
  {
   "cell_type": "code",
   "execution_count": null,
   "id": "512bb18d",
   "metadata": {},
   "outputs": [],
   "source": [
    "# Spliting the CarName column into CarCompany and CarModel\n",
    "CarPrices['CarCompany'] = CarPrices['CarName'].apply(lambda x: x.split(' ')[0])\n",
    "CarPrices['CarModel'] = CarPrices['CarName'].apply(lambda x: x.split(' ')[-1])\n",
    "CarPrices['CarCompany'] = CarPrices['CarCompany'].apply(lambda x: x.capitalize())"
   ]
  },
  {
   "cell_type": "code",
   "execution_count": null,
   "id": "3fa88912",
   "metadata": {},
   "outputs": [],
   "source": [
    "CarPrices['CarCompany'].value_counts()"
   ]
  },
  {
   "cell_type": "code",
   "execution_count": null,
   "id": "c0862017",
   "metadata": {},
   "outputs": [],
   "source": [
    "# Replacing the incorrect spellings\n",
    "CarPrices['CarCompany'].replace('Maxda','Mazda',inplace=True)\n",
    "CarPrices['CarCompany'].replace('Porcshce','Porsche',inplace=True)\n",
    "CarPrices['CarCompany'].replace('Toyouta','Toyota',inplace=True)\n",
    "CarPrices['CarCompany'].replace(['Vokswagen','Vw'],'Volkswagen',inplace=True)"
   ]
  },
  {
   "cell_type": "code",
   "execution_count": null,
   "id": "3acec529",
   "metadata": {},
   "outputs": [],
   "source": [
    "CarPrices['CarCompany'].value_counts()"
   ]
  },
  {
   "cell_type": "code",
   "execution_count": null,
   "id": "44cba057",
   "metadata": {},
   "outputs": [],
   "source": [
    "CarPrices.drop(columns = 'CarName', inplace = True)"
   ]
  },
  {
   "attachments": {},
   "cell_type": "markdown",
   "id": "2664c8aa",
   "metadata": {},
   "source": [
    "## Making the symboling column more readable\n",
    "    0 and 1 : Moderate\n",
    "    -2 and -1 : Safe\n",
    "    1 and 2 : Risky"
   ]
  },
  {
   "cell_type": "code",
   "execution_count": null,
   "id": "03323450",
   "metadata": {},
   "outputs": [],
   "source": [
    "CarPrices['symboling'].value_counts()"
   ]
  },
  {
   "cell_type": "code",
   "execution_count": null,
   "id": "d4393444",
   "metadata": {},
   "outputs": [],
   "source": [
    "CarPrices['symboling'] = CarPrices[['symboling']].apply(lambda x: x.map({0:'moderate', 1:'moderate', 2:'risky',3:'risky',-1:'safe',-2:'safe'}))"
   ]
  },
  {
   "cell_type": "code",
   "execution_count": null,
   "id": "c7be34e3",
   "metadata": {},
   "outputs": [],
   "source": [
    "CarPrices['symboling'].value_counts()"
   ]
  },
  {
   "attachments": {},
   "cell_type": "markdown",
   "id": "d9bfb068",
   "metadata": {},
   "source": [
    "#### Observing all Categorical variables"
   ]
  },
  {
   "cell_type": "code",
   "execution_count": null,
   "id": "b7aca71d",
   "metadata": {},
   "outputs": [],
   "source": [
    "CarPrices['fueltype'].value_counts()"
   ]
  },
  {
   "cell_type": "code",
   "execution_count": null,
   "id": "763fe6b7",
   "metadata": {},
   "outputs": [],
   "source": [
    "CarPrices['aspiration'].value_counts()"
   ]
  },
  {
   "cell_type": "code",
   "execution_count": null,
   "id": "9aa4fac3",
   "metadata": {},
   "outputs": [],
   "source": [
    "CarPrices['doornumber'].value_counts()"
   ]
  },
  {
   "cell_type": "code",
   "execution_count": null,
   "id": "f676d8d3",
   "metadata": {},
   "outputs": [],
   "source": [
    "CarPrices['carbody'].value_counts()"
   ]
  },
  {
   "cell_type": "code",
   "execution_count": null,
   "id": "aab22f39",
   "metadata": {},
   "outputs": [],
   "source": [
    "CarPrices['drivewheel'].value_counts()"
   ]
  },
  {
   "cell_type": "code",
   "execution_count": null,
   "id": "c42c40ea",
   "metadata": {},
   "outputs": [],
   "source": [
    "CarPrices['enginelocation'].value_counts()"
   ]
  },
  {
   "cell_type": "code",
   "execution_count": null,
   "id": "a48dca36",
   "metadata": {},
   "outputs": [],
   "source": [
    "CarPrices['enginetype'].value_counts()"
   ]
  },
  {
   "cell_type": "code",
   "execution_count": null,
   "id": "3dbac4f1",
   "metadata": {},
   "outputs": [],
   "source": [
    "CarPrices['cylindernumber'].value_counts()"
   ]
  },
  {
   "cell_type": "code",
   "execution_count": null,
   "id": "8061bae3",
   "metadata": {},
   "outputs": [],
   "source": [
    "CarPrices['fuelsystem'].value_counts()"
   ]
  },
  {
   "attachments": {},
   "cell_type": "markdown",
   "id": "a3fd5e86",
   "metadata": {},
   "source": [
    "### Observing all Numerical varibles"
   ]
  },
  {
   "cell_type": "code",
   "execution_count": null,
   "id": "cef8392e",
   "metadata": {},
   "outputs": [],
   "source": [
    "numerical_vars = ['wheelbase', 'carlength', 'carwidth', 'carheight', 'curbweight', 'enginesize', 'boreratio', 'stroke', 'compressionratio', 'horsepower', 'peakrpm', 'citympg', 'highwaympg']\n",
    "j = 1\n",
    "for i in numerical_vars:\n",
    "    plt.figure(figsize = [20,20])\n",
    "    plt.subplot(5,3,j)\n",
    "    sns.distplot(CarPrices[i])\n",
    "    j = j + 1"
   ]
  },
  {
   "attachments": {},
   "cell_type": "markdown",
   "id": "d5e3c492",
   "metadata": {},
   "source": [
    "## We can observe few numerical variables contains large number of outliers\n",
    "     So we deal with this outliers first."
   ]
  },
  {
   "cell_type": "code",
   "execution_count": null,
   "id": "e30d81e4",
   "metadata": {},
   "outputs": [],
   "source": [
    "print(CarPrices[['carwidth', 'carheight', 'boreratio', 'stroke', 'peakrpm',\n",
    "                'citympg', 'highwaympg', 'horsepower', 'curbweight', 'enginesize']].quantile([0.01, .98]))\n",
    "print(CarPrices[['compressionratio']].quantile([0.01, .90]))"
   ]
  },
  {
   "cell_type": "code",
   "execution_count": null,
   "id": "4850e694",
   "metadata": {},
   "outputs": [],
   "source": [
    "CarPrices['carwidth'][np.abs(CarPrices['carwidth'] > 71.676)]= 71.676\n",
    "CarPrices['carheight'][np.abs(CarPrices['carheight'] > 59.068)]= 59.068\n",
    "CarPrices['boreratio'][np.abs(CarPrices['boreratio'] > 3.78)]= 3.78\n",
    "CarPrices['stroke'][np.abs(CarPrices['stroke'] > 3.8968)]= 3.8968\n",
    "CarPrices['peakrpm'][np.abs(CarPrices['peakrpm'] > 6000)]= 6000\n",
    "CarPrices['citympg'][np.abs(CarPrices['citympg'] > 38.00)]= 38.00\n",
    "CarPrices['highwaympg'][np.abs(CarPrices['highwaympg'] > 46.92)]= 46.92\n",
    "CarPrices['curbweight'][np.abs(CarPrices['curbweight'] > 3768.40)]= 3768.40\n",
    "CarPrices['horsepower'][np.abs(CarPrices['horsepower'] > 206.44)]= 206.44\n",
    "CarPrices['enginesize'][np.abs(CarPrices['enginesize'] > 256.08)]= 256.08\n",
    "CarPrices['compressionratio'][np.abs(CarPrices['compressionratio'] > 10.94)]= 10.94"
   ]
  },
  {
   "cell_type": "code",
   "execution_count": null,
   "id": "75c3703c",
   "metadata": {},
   "outputs": [],
   "source": [
    "numerical_vars = ['wheelbase', 'carlength', 'carwidth', 'carheight', 'curbweight', 'enginesize', 'boreratio', 'stroke', 'compressionratio', 'horsepower', 'peakrpm', 'citympg', 'highwaympg']\n",
    "j = 1\n",
    "for i in numerical_vars:\n",
    "    plt.figure(figsize = [20,20])\n",
    "    plt.subplot(5,3,j)\n",
    "    sns.distplot(CarPrices[i])\n",
    "    j = j + 1"
   ]
  },
  {
   "attachments": {},
   "cell_type": "markdown",
   "id": "040cb11a",
   "metadata": {},
   "source": [
    "###### Now the distribution of the numerical variables are good."
   ]
  },
  {
   "cell_type": "code",
   "execution_count": null,
   "id": "1b18b6dc",
   "metadata": {},
   "outputs": [],
   "source": [
    "plt.figure(figsize = [20,16])\n",
    "plt.subplot(4,3,1)\n",
    "sns.boxplot(x = 'symboling', y = 'price', data = CarPrices)\n",
    "plt.subplot(4,3,2)\n",
    "sns.boxplot(x = 'fueltype', y = 'price', data = CarPrices)\n",
    "plt.subplot(4,3,3)\n",
    "sns.boxplot(x = 'aspiration', y = 'price', data = CarPrices)\n",
    "plt.subplot(4,3,4)\n",
    "sns.boxplot(x = 'doornumber', y = 'price', data = CarPrices)\n",
    "plt.subplot(4,3,5)\n",
    "sns.boxplot(x = 'carbody', y = 'price', data = CarPrices)\n",
    "plt.subplot(4,3,6)\n",
    "sns.boxplot(x = 'drivewheel', y = 'price', data = CarPrices)\n",
    "plt.subplot(4,3,7)\n",
    "sns.boxplot(x = 'enginelocation', y = 'price', data = CarPrices)\n",
    "plt.subplot(4,3,8)\n",
    "sns.boxplot(x = 'enginetype', y = 'price', data = CarPrices)\n",
    "plt.subplot(4,3,9)\n",
    "sns.boxplot(x = 'cylindernumber', y = 'price', data = CarPrices)\n",
    "plt.subplot(4,3,10)\n",
    "sns.boxplot(x = 'fuelsystem', y = 'price', data = CarPrices)\n",
    "plt.show()"
   ]
  },
  {
   "cell_type": "code",
   "execution_count": null,
   "id": "a7e0f192",
   "metadata": {},
   "outputs": [],
   "source": [
    "plt.figure(figsize = [20,20])\n",
    "sns.boxplot(x = 'CarCompany', y = 'price', data = CarPrices)\n",
    "plt.show()"
   ]
  },
  {
   "attachments": {},
   "cell_type": "markdown",
   "id": "411dc237",
   "metadata": {},
   "source": [
    "## Reading individual car company is difficult \n",
    "### So, we categorize them based on their average price in the market\n",
    "    -  <10000 : C class\n",
    "    - 10000 to 20000 : B class\n",
    "    - >20000 : C class"
   ]
  },
  {
   "cell_type": "code",
   "execution_count": null,
   "id": "66cc8686",
   "metadata": {},
   "outputs": [],
   "source": [
    "CarPrices.groupby('CarCompany').price.mean().sort_values(ascending=False)"
   ]
  },
  {
   "cell_type": "code",
   "execution_count": null,
   "id": "7b40a96f",
   "metadata": {},
   "outputs": [],
   "source": [
    "company_class_dict = {\n",
    "    'Cheverolet' : 'C',\n",
    "    'Dodge' : 'C',\n",
    "    'Plymouth' : 'C',\n",
    "    'Honda' : 'C',\n",
    "    'Subaru' : 'C',\n",
    "    'Isuzu' : 'C',\n",
    "    'Mitsubishi' : 'C',\n",
    "    'Renault' : 'C',\n",
    "    'Toyota' : 'C',\n",
    "    'Volkswagen' : 'B',\n",
    "    'Nissan' : 'B',\n",
    "    'Mazda' : 'B',\n",
    "    'Saab' : 'B',\n",
    "    'Peugeot' : 'B',\n",
    "    'Alfa-romero' : 'B',\n",
    "    'Mercury' : 'B',\n",
    "    'Audi' : 'B',\n",
    "    'Volvo' : 'B',\n",
    "    'Bmw' : 'A',\n",
    "    'Buick' : 'A',\n",
    "    'Porsche' : 'A',\n",
    "    'Jaguar' : 'A',\n",
    "    }\n",
    "CarPrices['company_class'] = CarPrices['CarCompany'].map(company_class_dict)\n",
    "# Dropping the orignal car_company variable\n",
    "CarPrices.head()"
   ]
  },
  {
   "attachments": {},
   "cell_type": "markdown",
   "id": "cd3ec439",
   "metadata": {},
   "source": [
    "# Now changing Categorical varibles to Binary (1/0)\n",
    "### If Categorical variables contains more than two features we use Dummy variable"
   ]
  },
  {
   "cell_type": "code",
   "execution_count": null,
   "id": "43fa5b7e",
   "metadata": {},
   "outputs": [],
   "source": [
    "carcompany = pd.get_dummies(CarPrices['company_class'])\n",
    "carcompany.columns = ['A_class', 'B_class', 'C_class']\n",
    "carcompany"
   ]
  },
  {
   "cell_type": "code",
   "execution_count": null,
   "id": "540e0e10",
   "metadata": {},
   "outputs": [],
   "source": [
    "carcompany.drop('C_class', axis = 1, inplace = True)"
   ]
  },
  {
   "cell_type": "code",
   "execution_count": null,
   "id": "5b39678e",
   "metadata": {},
   "outputs": [],
   "source": [
    "CarPrices = pd.concat([CarPrices, carcompany], axis = 1)"
   ]
  },
  {
   "cell_type": "code",
   "execution_count": null,
   "id": "eddcb229",
   "metadata": {},
   "outputs": [],
   "source": [
    "CarPrices"
   ]
  },
  {
   "cell_type": "code",
   "execution_count": null,
   "id": "21804805",
   "metadata": {},
   "outputs": [],
   "source": [
    "CarPrices1 = CarPrices.drop('CarCompany', axis = 1)"
   ]
  },
  {
   "cell_type": "code",
   "execution_count": null,
   "id": "34219574",
   "metadata": {},
   "outputs": [],
   "source": [
    "CarPrices1.drop('CarModel', axis = 1, inplace = True)"
   ]
  },
  {
   "cell_type": "code",
   "execution_count": null,
   "id": "9f2fcb46",
   "metadata": {},
   "outputs": [],
   "source": [
    "CarPrices1.drop('company_class', axis = 1, inplace = True)"
   ]
  },
  {
   "cell_type": "code",
   "execution_count": null,
   "id": "976296dd",
   "metadata": {},
   "outputs": [],
   "source": [
    "CarPrices1"
   ]
  },
  {
   "cell_type": "code",
   "execution_count": null,
   "id": "83ac0708",
   "metadata": {},
   "outputs": [],
   "source": [
    "symboling = pd.get_dummies(CarPrices['symboling'], drop_first=True)\n",
    "symboling.columns = ['symboling_risky', 'symboling_safe']"
   ]
  },
  {
   "cell_type": "code",
   "execution_count": null,
   "id": "80f2de73",
   "metadata": {},
   "outputs": [],
   "source": [
    "CarPrices1 = pd.concat([CarPrices1, symboling], axis = 1)"
   ]
  },
  {
   "cell_type": "code",
   "execution_count": null,
   "id": "b4697c7d",
   "metadata": {},
   "outputs": [],
   "source": [
    "CarPrices1.drop('symboling', axis = 1, inplace = True)"
   ]
  },
  {
   "cell_type": "code",
   "execution_count": null,
   "id": "af6da214",
   "metadata": {},
   "outputs": [],
   "source": [
    "fueltype = pd.get_dummies(CarPrices['fueltype'])\n",
    "fueltype.columns = ['fueltype_diesel','fueltype_gas']\n",
    "fueltype"
   ]
  },
  {
   "cell_type": "code",
   "execution_count": null,
   "id": "77d58eca",
   "metadata": {},
   "outputs": [],
   "source": [
    "CarPrices1 = pd.concat([CarPrices1, fueltype], axis = 1)"
   ]
  },
  {
   "cell_type": "code",
   "execution_count": null,
   "id": "d5e17d1a",
   "metadata": {},
   "outputs": [],
   "source": [
    "CarPrices1.drop('fueltype', axis = 1, inplace = True)"
   ]
  },
  {
   "cell_type": "code",
   "execution_count": null,
   "id": "4426d409",
   "metadata": {},
   "outputs": [],
   "source": [
    "aspiration = pd.get_dummies(CarPrices['aspiration'])\n",
    "aspiration.columns = ['aspiration_std', 'aspiration_turbo']\n",
    "aspiration"
   ]
  },
  {
   "cell_type": "code",
   "execution_count": null,
   "id": "202aaeec",
   "metadata": {},
   "outputs": [],
   "source": [
    "CarPrices1 = pd.concat([CarPrices1, aspiration], axis = 1)"
   ]
  },
  {
   "cell_type": "code",
   "execution_count": null,
   "id": "8e3e8a99",
   "metadata": {},
   "outputs": [],
   "source": [
    "CarPrices1.drop('aspiration', axis = 1, inplace = True)"
   ]
  },
  {
   "cell_type": "code",
   "execution_count": null,
   "id": "1c641338",
   "metadata": {},
   "outputs": [],
   "source": [
    "doornumber = pd.get_dummies(CarPrices['doornumber'])\n",
    "doornumber.columns = ['doornumber_four', 'doornumber_two']"
   ]
  },
  {
   "cell_type": "code",
   "execution_count": null,
   "id": "2df50d30",
   "metadata": {},
   "outputs": [],
   "source": [
    "doornumber"
   ]
  },
  {
   "cell_type": "code",
   "execution_count": null,
   "id": "588b8d1d",
   "metadata": {},
   "outputs": [],
   "source": [
    "CarPrices1 = pd.concat([CarPrices1, doornumber], axis = 1)"
   ]
  },
  {
   "cell_type": "code",
   "execution_count": null,
   "id": "a9c6682d",
   "metadata": {},
   "outputs": [],
   "source": [
    "CarPrices1.drop('doornumber', axis = 1, inplace = True)"
   ]
  },
  {
   "cell_type": "code",
   "execution_count": null,
   "id": "c362767b",
   "metadata": {},
   "outputs": [],
   "source": [
    "carbody = pd.get_dummies(CarPrices['carbody'], drop_first=True)\n",
    "carbody.columns = ['carbody_hardtop', 'carbody_hatchback', 'carbody_sedan', 'carbody_wagon']\n",
    "carbody"
   ]
  },
  {
   "cell_type": "code",
   "execution_count": null,
   "id": "7643a2e9",
   "metadata": {},
   "outputs": [],
   "source": [
    "CarPrices1 = pd.concat([CarPrices1, carbody], axis = 1)"
   ]
  },
  {
   "cell_type": "code",
   "execution_count": null,
   "id": "c5b039f0",
   "metadata": {},
   "outputs": [],
   "source": [
    "CarPrices1.drop('carbody', axis = 1, inplace = True)"
   ]
  },
  {
   "cell_type": "code",
   "execution_count": null,
   "id": "6f520e27",
   "metadata": {},
   "outputs": [],
   "source": [
    "drivewheel = pd.get_dummies(CarPrices['drivewheel'], drop_first=True)\n",
    "drivewheel.columns = ['drivewheel_fwd', 'drivewheel_rwd']\n",
    "drivewheel"
   ]
  },
  {
   "cell_type": "code",
   "execution_count": null,
   "id": "664ad232",
   "metadata": {},
   "outputs": [],
   "source": [
    "CarPrices1 = pd.concat([CarPrices1, drivewheel], axis = 1)"
   ]
  },
  {
   "cell_type": "code",
   "execution_count": null,
   "id": "d5467f00",
   "metadata": {},
   "outputs": [],
   "source": [
    "CarPrices1.drop('drivewheel', axis = 1, inplace = True)"
   ]
  },
  {
   "cell_type": "code",
   "execution_count": null,
   "id": "80458caf",
   "metadata": {},
   "outputs": [],
   "source": [
    "enginelocation = pd.get_dummies(CarPrices['enginelocation'])\n",
    "enginelocation.columns = ['enginelocation_front', 'enginelocation_rear']\n",
    "enginelocation"
   ]
  },
  {
   "cell_type": "code",
   "execution_count": null,
   "id": "91c26baf",
   "metadata": {},
   "outputs": [],
   "source": [
    "CarPrices1 = pd.concat([CarPrices1, enginelocation], axis = 1)"
   ]
  },
  {
   "cell_type": "code",
   "execution_count": null,
   "id": "954082e4",
   "metadata": {},
   "outputs": [],
   "source": [
    "CarPrices1.drop('enginelocation', axis = 1, inplace = True)"
   ]
  },
  {
   "cell_type": "code",
   "execution_count": null,
   "id": "c802c217",
   "metadata": {},
   "outputs": [],
   "source": [
    "enginetype = pd.get_dummies(CarPrices['enginetype'], drop_first=True)\n",
    "enginetype.columns = ['enginetype_dohcv', 'enginetype_l', 'enginetype_ohc', 'enginetype_ohcf', 'enginetype_ohcv', 'enginetype_rotor']\n",
    "enginetype"
   ]
  },
  {
   "cell_type": "code",
   "execution_count": null,
   "id": "47cf2c4b",
   "metadata": {},
   "outputs": [],
   "source": [
    "CarPrices1 = pd.concat([CarPrices1, enginetype], axis = 1)"
   ]
  },
  {
   "cell_type": "code",
   "execution_count": null,
   "id": "5ab1bd05",
   "metadata": {},
   "outputs": [],
   "source": [
    "CarPrices1.drop('enginetype', axis = 1, inplace = True)"
   ]
  },
  {
   "cell_type": "code",
   "execution_count": null,
   "id": "a74936cd",
   "metadata": {},
   "outputs": [],
   "source": [
    "cylindernumber = pd.get_dummies(CarPrices['cylindernumber'], drop_first=True)\n",
    "cylindernumber.columns = ['cylindernumber_five', 'cylindernumber_four', 'cylindernumber_six', 'cylindernumber_three', 'cylindernumber_twelve', 'cylinder_two']\n",
    "cylindernumber"
   ]
  },
  {
   "cell_type": "code",
   "execution_count": null,
   "id": "1bc7a8fe",
   "metadata": {},
   "outputs": [],
   "source": [
    "CarPrices1 = pd.concat([CarPrices1, cylindernumber], axis = 1)"
   ]
  },
  {
   "cell_type": "code",
   "execution_count": null,
   "id": "91988312",
   "metadata": {},
   "outputs": [],
   "source": [
    "CarPrices1.drop('cylindernumber', axis = 1, inplace = True)"
   ]
  },
  {
   "cell_type": "code",
   "execution_count": null,
   "id": "0c7476d0",
   "metadata": {},
   "outputs": [],
   "source": [
    "fuelsystem = pd.get_dummies(CarPrices['fuelsystem'], drop_first = True)\n",
    "fuelsystem.columns = ['fuelsystem_2bbl', 'fuelsystem_4bbl', 'fuelsystem_idi', 'fuelsystem_mfi','fuelsystem_mpfi', 'fuelsystem_spdi', 'fuelsystem_spfi']\n",
    "fuelsystem"
   ]
  },
  {
   "cell_type": "code",
   "execution_count": null,
   "id": "82654f13",
   "metadata": {},
   "outputs": [],
   "source": [
    "CarPrices1 = pd.concat([CarPrices1, fuelsystem], axis = 1)"
   ]
  },
  {
   "cell_type": "code",
   "execution_count": null,
   "id": "d3a45ed3",
   "metadata": {},
   "outputs": [],
   "source": [
    "CarPrices1.drop('fuelsystem', axis = 1, inplace = True)"
   ]
  },
  {
   "cell_type": "code",
   "execution_count": null,
   "id": "1b1faf6d",
   "metadata": {
    "scrolled": true
   },
   "outputs": [],
   "source": [
    "CarPrices1.drop('car_ID', axis = 1, inplace = True)"
   ]
  },
  {
   "cell_type": "code",
   "execution_count": null,
   "id": "b0d7c395",
   "metadata": {},
   "outputs": [],
   "source": [
    "CarPrices1"
   ]
  },
  {
   "cell_type": "code",
   "execution_count": null,
   "id": "81fde13b",
   "metadata": {},
   "outputs": [],
   "source": [
    "CarPrices1.shape"
   ]
  },
  {
   "attachments": {},
   "cell_type": "markdown",
   "id": "485c8792",
   "metadata": {},
   "source": [
    "# Now we split the data set into train and test sets"
   ]
  },
  {
   "cell_type": "code",
   "execution_count": null,
   "id": "c17b2b55",
   "metadata": {},
   "outputs": [],
   "source": [
    "# Spliting into train and test\n",
    "\n",
    "df_train, df_test = train_test_split(CarPrices1, train_size = 0.7, random_state = 100)"
   ]
  },
  {
   "cell_type": "code",
   "execution_count": null,
   "id": "1a9063a1",
   "metadata": {},
   "outputs": [],
   "source": [
    "df_train.shape"
   ]
  },
  {
   "cell_type": "code",
   "execution_count": null,
   "id": "46a0a3b8",
   "metadata": {},
   "outputs": [],
   "source": [
    "df_test.shape"
   ]
  },
  {
   "cell_type": "code",
   "execution_count": null,
   "id": "8892eb6f",
   "metadata": {},
   "outputs": [],
   "source": [
    "CarPrices1.info()"
   ]
  },
  {
   "attachments": {},
   "cell_type": "markdown",
   "id": "12aa8498",
   "metadata": {},
   "source": [
    "## Now we rescale the Numerical varibles using MinMaxScaler"
   ]
  },
  {
   "cell_type": "code",
   "execution_count": null,
   "id": "10a5b274",
   "metadata": {},
   "outputs": [],
   "source": [
    "# Rescalling the features\n",
    "num_vars = ['wheelbase', 'carlength', 'carwidth', 'carheight', 'curbweight', 'enginesize', 'boreratio', 'stroke', 'compressionratio', 'horsepower', 'peakrpm', 'citympg', 'highwaympg']"
   ]
  },
  {
   "cell_type": "code",
   "execution_count": null,
   "id": "f4224634",
   "metadata": {},
   "outputs": [],
   "source": [
    "Scaler = MinMaxScaler()\n",
    "df_train[num_vars] = Scaler.fit_transform(df_train[num_vars])"
   ]
  },
  {
   "cell_type": "code",
   "execution_count": null,
   "id": "38396e18",
   "metadata": {},
   "outputs": [],
   "source": [
    "df_train"
   ]
  },
  {
   "cell_type": "code",
   "execution_count": null,
   "id": "30331ce4",
   "metadata": {},
   "outputs": [],
   "source": [
    "df_train.describe()"
   ]
  },
  {
   "cell_type": "code",
   "execution_count": null,
   "id": "cf41fee6",
   "metadata": {},
   "outputs": [],
   "source": [
    "# Heatmap\n",
    "plt.figure(figsize = [100,100])\n",
    "sns.heatmap(df_train.corr(), annot = True, cmap = 'YlGnBu')\n",
    "plt.show()"
   ]
  },
  {
   "attachments": {},
   "cell_type": "markdown",
   "id": "2eb27cc7",
   "metadata": {},
   "source": [
    "# Now we start Building the model\n",
    "### Here we use both atomated and manual methos to remove the variables"
   ]
  },
  {
   "cell_type": "code",
   "execution_count": null,
   "id": "b0175bee",
   "metadata": {},
   "outputs": [],
   "source": [
    "# X_train, y_train\n",
    "y_train = df_train.pop('price')\n",
    "X_train = df_train"
   ]
  },
  {
   "cell_type": "code",
   "execution_count": null,
   "id": "a65a5be6",
   "metadata": {},
   "outputs": [],
   "source": [
    "X_train"
   ]
  },
  {
   "cell_type": "code",
   "execution_count": null,
   "id": "dc424795",
   "metadata": {
    "scrolled": false
   },
   "outputs": [],
   "source": [
    "# Building the model\n",
    "X_train_sm = sm.add_constant(X_train)\n",
    "\n",
    "# create model\n",
    "lr = sm.OLS(y_train.astype(float), X_train_sm.astype(float))\n",
    "\n",
    "# fit\n",
    "lr_model = lr.fit()\n",
    "\n",
    "#params\n",
    "lr_model.summary()"
   ]
  },
  {
   "cell_type": "code",
   "execution_count": null,
   "id": "00039248",
   "metadata": {},
   "outputs": [],
   "source": [
    "# VIF\n",
    "VIF = pd.DataFrame()\n",
    "VIF['Features'] = X_train.columns\n",
    "VIF['VIF value'] = [variance_inflation_factor (X_train.values, i) for i in range(X_train.shape[1])]\n",
    "VIF['VIF value'] = round(VIF['VIF value'], 2)\n",
    "VIF = VIF.sort_values(by = 'VIF value', ascending = False)"
   ]
  },
  {
   "cell_type": "code",
   "execution_count": null,
   "id": "2aec6dba",
   "metadata": {},
   "outputs": [],
   "source": [
    "VIF"
   ]
  },
  {
   "attachments": {},
   "cell_type": "markdown",
   "id": "b35a5703",
   "metadata": {},
   "source": [
    "# First we use RFE method to remove the varibles "
   ]
  },
  {
   "cell_type": "code",
   "execution_count": null,
   "id": "25af19b6",
   "metadata": {},
   "outputs": [],
   "source": [
    "lm = LinearRegression()\n",
    "lm.fit(X_train, y_train)\n",
    "rfe = RFE(lm, n_features_to_select = 15)\n",
    "rfe = rfe.fit(X_train, y_train)\n",
    "\n",
    "a = list(zip(X_train.columns, rfe.support_, rfe.ranking_))\n",
    "\n",
    "col = X_train.columns[rfe.support_]"
   ]
  },
  {
   "cell_type": "code",
   "execution_count": null,
   "id": "dc9e32f2",
   "metadata": {},
   "outputs": [],
   "source": [
    "col"
   ]
  },
  {
   "cell_type": "code",
   "execution_count": null,
   "id": "85393a11",
   "metadata": {},
   "outputs": [],
   "source": [
    "a"
   ]
  },
  {
   "attachments": {},
   "cell_type": "markdown",
   "id": "3204b470",
   "metadata": {},
   "source": [
    "## From here we use manual method to eliminate the variable\n",
    "#### We eliminate the variables based on Significance (p-values) and VIF"
   ]
  },
  {
   "cell_type": "code",
   "execution_count": null,
   "id": "3d666ef9",
   "metadata": {},
   "outputs": [],
   "source": [
    "# Building the model again\n",
    "X_train_rfe = X_train[col]\n",
    "\n",
    "X_train_rfe = sm.add_constant(X_train_rfe)\n",
    "\n",
    "# create model\n",
    "lr = sm.OLS(y_train, X_train_rfe)\n",
    "\n",
    "# fit\n",
    "lr_model = lr.fit()\n",
    "\n",
    "#params\n",
    "lr_model.summary()"
   ]
  },
  {
   "cell_type": "code",
   "execution_count": null,
   "id": "a3c4567e",
   "metadata": {},
   "outputs": [],
   "source": [
    "# VIF\n",
    "VIF = pd.DataFrame()\n",
    "VIF['Features'] = X_train_rfe.columns\n",
    "VIF['VIF value'] = [variance_inflation_factor (X_train_rfe.values, i) for i in range(X_train_rfe.shape[1])]\n",
    "VIF['VIF value'] = round(VIF['VIF value'], 2)\n",
    "VIF = VIF.sort_values(by = 'VIF value', ascending = False)"
   ]
  },
  {
   "cell_type": "code",
   "execution_count": null,
   "id": "e679252c",
   "metadata": {},
   "outputs": [],
   "source": [
    "VIF"
   ]
  },
  {
   "attachments": {},
   "cell_type": "markdown",
   "id": "463e321d",
   "metadata": {},
   "source": [
    "### We go on eliminate the variables until we get best results\n",
    "##### We accept the variable if both the conditions are met :\n",
    "            - p-value    : < 0.05\n",
    "            - VIF-value  : < 5"
   ]
  },
  {
   "cell_type": "code",
   "execution_count": null,
   "id": "55a193a4",
   "metadata": {},
   "outputs": [],
   "source": [
    "# Building the model again\n",
    "X_train_rfe = X_train_rfe.drop('enginelocation_front', axis = 1)\n",
    "\n",
    "X_train_rfe = sm.add_constant(X_train_rfe)\n",
    "\n",
    "# create model\n",
    "lr = sm.OLS(y_train, X_train_rfe)\n",
    "\n",
    "# fit\n",
    "lr_model = lr.fit()\n",
    "\n",
    "#params\n",
    "lr_model.summary()"
   ]
  },
  {
   "cell_type": "code",
   "execution_count": null,
   "id": "581f3620",
   "metadata": {},
   "outputs": [],
   "source": [
    "# VIF\n",
    "VIF = pd.DataFrame()\n",
    "VIF['Features'] = X_train_rfe.columns\n",
    "VIF['VIF value'] = [variance_inflation_factor (X_train_rfe.values, i) for i in range(X_train_rfe.shape[1])]\n",
    "VIF['VIF value'] = round(VIF['VIF value'], 2)\n",
    "VIF = VIF.sort_values(by = 'VIF value', ascending = False)"
   ]
  },
  {
   "cell_type": "code",
   "execution_count": null,
   "id": "5e6653d4",
   "metadata": {},
   "outputs": [],
   "source": [
    "VIF"
   ]
  },
  {
   "cell_type": "code",
   "execution_count": null,
   "id": "2fffc19f",
   "metadata": {},
   "outputs": [],
   "source": [
    "# Building the model again\n",
    "X_train_rfe = X_train_rfe.drop('wheelbase', axis = 1)\n",
    "\n",
    "X_train_rfe = sm.add_constant(X_train_rfe)\n",
    "\n",
    "# create model\n",
    "lr = sm.OLS(y_train, X_train_rfe)\n",
    "\n",
    "# fit\n",
    "lr_model = lr.fit()\n",
    "\n",
    "#params\n",
    "lr_model.summary()"
   ]
  },
  {
   "cell_type": "code",
   "execution_count": null,
   "id": "728cb572",
   "metadata": {},
   "outputs": [],
   "source": [
    "# VIF\n",
    "VIF = pd.DataFrame()\n",
    "VIF['Features'] = X_train_rfe.columns\n",
    "VIF['VIF value'] = [variance_inflation_factor (X_train_rfe.values, i) for i in range(X_train_rfe.shape[1])]\n",
    "VIF['VIF value'] = round(VIF['VIF value'], 2)\n",
    "VIF = VIF.sort_values(by = 'VIF value', ascending = False)"
   ]
  },
  {
   "cell_type": "code",
   "execution_count": null,
   "id": "297da54f",
   "metadata": {},
   "outputs": [],
   "source": [
    "VIF"
   ]
  },
  {
   "cell_type": "code",
   "execution_count": null,
   "id": "04b4e284",
   "metadata": {},
   "outputs": [],
   "source": [
    "# Building the model again\n",
    "X_train_rfe = X_train_rfe.drop('highwaympg', axis = 1)\n",
    "\n",
    "X_train_rfe = sm.add_constant(X_train_rfe)\n",
    "\n",
    "# create model\n",
    "lr = sm.OLS(y_train, X_train_rfe)\n",
    "\n",
    "# fit\n",
    "lr_model = lr.fit()\n",
    "\n",
    "#params\n",
    "lr_model.summary()"
   ]
  },
  {
   "cell_type": "code",
   "execution_count": null,
   "id": "e5e3215a",
   "metadata": {},
   "outputs": [],
   "source": [
    "# VIF\n",
    "VIF = pd.DataFrame()\n",
    "VIF['Features'] = X_train_rfe.columns\n",
    "VIF['VIF value'] = [variance_inflation_factor (X_train_rfe.values, i) for i in range(X_train_rfe.shape[1])]\n",
    "VIF['VIF value'] = round(VIF['VIF value'], 2)\n",
    "VIF = VIF.sort_values(by = 'VIF value', ascending = False)"
   ]
  },
  {
   "cell_type": "code",
   "execution_count": null,
   "id": "7b45f117",
   "metadata": {},
   "outputs": [],
   "source": [
    "VIF"
   ]
  },
  {
   "cell_type": "code",
   "execution_count": null,
   "id": "5cbaafcd",
   "metadata": {},
   "outputs": [],
   "source": [
    "# Building the model again\n",
    "X_train_rfe = X_train_rfe.drop('carbody_hardtop', axis = 1)\n",
    "\n",
    "X_train_rfe = sm.add_constant(X_train_rfe)\n",
    "\n",
    "# create model\n",
    "lr = sm.OLS(y_train, X_train_rfe)\n",
    "\n",
    "# fit\n",
    "lr_model = lr.fit()\n",
    "\n",
    "#params\n",
    "lr_model.summary()"
   ]
  },
  {
   "cell_type": "code",
   "execution_count": null,
   "id": "7ba81ba5",
   "metadata": {},
   "outputs": [],
   "source": [
    "# VIF\n",
    "VIF = pd.DataFrame()\n",
    "VIF['Features'] = X_train_rfe.columns\n",
    "VIF['VIF value'] = [variance_inflation_factor (X_train_rfe.values, i) for i in range(X_train_rfe.shape[1])]\n",
    "VIF['VIF value'] = round(VIF['VIF value'], 2)\n",
    "VIF = VIF.sort_values(by = 'VIF value', ascending = False)"
   ]
  },
  {
   "cell_type": "code",
   "execution_count": null,
   "id": "47d2a885",
   "metadata": {},
   "outputs": [],
   "source": [
    "VIF"
   ]
  },
  {
   "cell_type": "code",
   "execution_count": null,
   "id": "9bbc9d70",
   "metadata": {},
   "outputs": [],
   "source": [
    "# Building the model again\n",
    "X_train_rfe = X_train_rfe.drop('curbweight', axis = 1)\n",
    "\n",
    "X_train_rfe = sm.add_constant(X_train_rfe)\n",
    "\n",
    "# create model\n",
    "lr = sm.OLS(y_train, X_train_rfe)\n",
    "\n",
    "# fit\n",
    "lr_model = lr.fit()\n",
    "\n",
    "#params\n",
    "lr_model.summary()"
   ]
  },
  {
   "cell_type": "code",
   "execution_count": null,
   "id": "4bdc5249",
   "metadata": {},
   "outputs": [],
   "source": [
    "# VIF\n",
    "VIF = pd.DataFrame()\n",
    "VIF['Features'] = X_train_rfe.columns\n",
    "VIF['VIF value'] = [variance_inflation_factor (X_train_rfe.values, i) for i in range(X_train_rfe.shape[1])]\n",
    "VIF['VIF value'] = round(VIF['VIF value'], 2)\n",
    "VIF = VIF.sort_values(by = 'VIF value', ascending = False)"
   ]
  },
  {
   "cell_type": "code",
   "execution_count": null,
   "id": "d2a864b2",
   "metadata": {},
   "outputs": [],
   "source": [
    "VIF"
   ]
  },
  {
   "cell_type": "code",
   "execution_count": null,
   "id": "14b6582b",
   "metadata": {},
   "outputs": [],
   "source": [
    "# Building the model again\n",
    "X_train_rfe = X_train_rfe.drop('boreratio', axis = 1)\n",
    "\n",
    "X_train_rfe = sm.add_constant(X_train_rfe)\n",
    "\n",
    "# create model\n",
    "lr = sm.OLS(y_train, X_train_rfe)\n",
    "\n",
    "# fit\n",
    "lr_model = lr.fit()\n",
    "\n",
    "#params\n",
    "lr_model.summary()"
   ]
  },
  {
   "cell_type": "code",
   "execution_count": null,
   "id": "08c7c0ca",
   "metadata": {},
   "outputs": [],
   "source": [
    "# VIF\n",
    "VIF = pd.DataFrame()\n",
    "VIF['Features'] = X_train_rfe.columns\n",
    "VIF['VIF value'] = [variance_inflation_factor (X_train_rfe.values, i) for i in range(X_train_rfe.shape[1])]\n",
    "VIF['VIF value'] = round(VIF['VIF value'], 2)\n",
    "VIF = VIF.sort_values(by = 'VIF value', ascending = False)"
   ]
  },
  {
   "cell_type": "code",
   "execution_count": null,
   "id": "e6a3e081",
   "metadata": {},
   "outputs": [],
   "source": [
    "VIF"
   ]
  },
  {
   "cell_type": "code",
   "execution_count": null,
   "id": "26b020ca",
   "metadata": {},
   "outputs": [],
   "source": [
    "# Building the model again\n",
    "X_train_rfe = X_train_rfe.drop('enginelocation_rear', axis = 1)\n",
    "\n",
    "X_train_rfe = sm.add_constant(X_train_rfe)\n",
    "\n",
    "# create model\n",
    "lr = sm.OLS(y_train, X_train_rfe)\n",
    "\n",
    "# fit\n",
    "lr_model = lr.fit()\n",
    "\n",
    "#params\n",
    "lr_model.summary()"
   ]
  },
  {
   "cell_type": "code",
   "execution_count": null,
   "id": "7befe30b",
   "metadata": {},
   "outputs": [],
   "source": [
    "# VIF\n",
    "VIF = pd.DataFrame()\n",
    "VIF['Features'] = X_train_rfe.columns\n",
    "VIF['VIF value'] = [variance_inflation_factor (X_train_rfe.values, i) for i in range(X_train_rfe.shape[1])]\n",
    "VIF['VIF value'] = round(VIF['VIF value'], 2)\n",
    "VIF = VIF.sort_values(by = 'VIF value', ascending = False)"
   ]
  },
  {
   "cell_type": "code",
   "execution_count": null,
   "id": "0eef8973",
   "metadata": {},
   "outputs": [],
   "source": [
    "VIF"
   ]
  },
  {
   "cell_type": "code",
   "execution_count": null,
   "id": "74d61ad5",
   "metadata": {},
   "outputs": [],
   "source": [
    "# Building the model again\n",
    "X_train_rfe = X_train_rfe.drop('enginetype_rotor', axis = 1)\n",
    "\n",
    "X_train_rfe = sm.add_constant(X_train_rfe)\n",
    "\n",
    "# create model\n",
    "lr = sm.OLS(y_train, X_train_rfe)\n",
    "\n",
    "# fit\n",
    "lr_model = lr.fit()\n",
    "\n",
    "#params\n",
    "lr_model.summary()"
   ]
  },
  {
   "cell_type": "code",
   "execution_count": null,
   "id": "f6a5d987",
   "metadata": {},
   "outputs": [],
   "source": [
    "# VIF\n",
    "VIF = pd.DataFrame()\n",
    "VIF['Features'] = X_train_rfe.columns\n",
    "VIF['VIF value'] = [variance_inflation_factor (X_train_rfe.values, i) for i in range(X_train_rfe.shape[1])]\n",
    "VIF['VIF value'] = round(VIF['VIF value'], 2)\n",
    "VIF = VIF.sort_values(by = 'VIF value', ascending = False)"
   ]
  },
  {
   "cell_type": "code",
   "execution_count": null,
   "id": "d3873377",
   "metadata": {},
   "outputs": [],
   "source": [
    "VIF"
   ]
  },
  {
   "cell_type": "code",
   "execution_count": null,
   "id": "9679aac1",
   "metadata": {},
   "outputs": [],
   "source": [
    "# Building the model again\n",
    "X_train_rfe = X_train_rfe.drop('carbody_sedan', axis = 1)\n",
    "\n",
    "X_train_rfe = sm.add_constant(X_train_rfe)\n",
    "\n",
    "# create model\n",
    "lr = sm.OLS(y_train, X_train_rfe)\n",
    "\n",
    "# fit\n",
    "lr_model = lr.fit()\n",
    "\n",
    "#params\n",
    "lr_model.summary()"
   ]
  },
  {
   "cell_type": "code",
   "execution_count": null,
   "id": "bff8c103",
   "metadata": {},
   "outputs": [],
   "source": [
    "# VIF\n",
    "VIF = pd.DataFrame()\n",
    "VIF['Features'] = X_train_rfe.columns\n",
    "VIF['VIF value'] = [variance_inflation_factor (X_train_rfe.values, i) for i in range(X_train_rfe.shape[1])]\n",
    "VIF['VIF value'] = round(VIF['VIF value'], 2)\n",
    "VIF = VIF.sort_values(by = 'VIF value', ascending = False)"
   ]
  },
  {
   "cell_type": "code",
   "execution_count": null,
   "id": "63bda0a0",
   "metadata": {},
   "outputs": [],
   "source": [
    "VIF"
   ]
  },
  {
   "cell_type": "code",
   "execution_count": null,
   "id": "a1f13e77",
   "metadata": {},
   "outputs": [],
   "source": [
    "# Building the model again\n",
    "X_train_rfe = X_train_rfe.drop('carbody_wagon', axis = 1)\n",
    "\n",
    "X_train_rfe = sm.add_constant(X_train_rfe)\n",
    "\n",
    "# create model\n",
    "lr = sm.OLS(y_train, X_train_rfe)\n",
    "\n",
    "# fit\n",
    "lr_model = lr.fit()\n",
    "\n",
    "#params\n",
    "lr_model.summary()"
   ]
  },
  {
   "cell_type": "code",
   "execution_count": null,
   "id": "a6fc3672",
   "metadata": {},
   "outputs": [],
   "source": [
    "# VIF\n",
    "VIF = pd.DataFrame()\n",
    "VIF['Features'] = X_train_rfe.columns\n",
    "VIF['VIF value'] = [variance_inflation_factor (X_train_rfe.values, i) for i in range(X_train_rfe.shape[1])]\n",
    "VIF['VIF value'] = round(VIF['VIF value'], 2)\n",
    "VIF = VIF.sort_values(by = 'VIF value', ascending = False)"
   ]
  },
  {
   "cell_type": "code",
   "execution_count": null,
   "id": "d1729715",
   "metadata": {},
   "outputs": [],
   "source": [
    "VIF"
   ]
  },
  {
   "attachments": {},
   "cell_type": "markdown",
   "id": "8df47b19",
   "metadata": {},
   "source": [
    "##### Our model is ready, now we check the residuals"
   ]
  },
  {
   "cell_type": "code",
   "execution_count": null,
   "id": "28401ead",
   "metadata": {},
   "outputs": [],
   "source": [
    "# Residual Analysis\n",
    "y_train_pred = lr_model.predict(X_train_rfe)\n",
    "y_train_pred"
   ]
  },
  {
   "cell_type": "code",
   "execution_count": null,
   "id": "7f9fb18a",
   "metadata": {},
   "outputs": [],
   "source": [
    "res = y_train - y_train_pred\n",
    "sns.distplot(res)\n",
    "plt.show()"
   ]
  },
  {
   "attachments": {},
   "cell_type": "markdown",
   "id": "29026320",
   "metadata": {},
   "source": [
    "### And our model follows the assumptions of Linear Regression"
   ]
  },
  {
   "attachments": {},
   "cell_type": "markdown",
   "id": "4c9070c2",
   "metadata": {},
   "source": [
    "# Now we predict and evaluate the model on test set"
   ]
  },
  {
   "cell_type": "code",
   "execution_count": null,
   "id": "9cdb1031",
   "metadata": {},
   "outputs": [],
   "source": [
    "# Prediction and Evaluation on the test set\n",
    "df_test[num_vars] = Scaler.transform(df_test[num_vars])\n",
    "df_test"
   ]
  },
  {
   "cell_type": "code",
   "execution_count": null,
   "id": "3e8841c0",
   "metadata": {},
   "outputs": [],
   "source": [
    "df_test.describe()"
   ]
  },
  {
   "cell_type": "code",
   "execution_count": null,
   "id": "533d8db5",
   "metadata": {},
   "outputs": [],
   "source": [
    "y_test = df_test.pop('price')\n",
    "X_test = df_test"
   ]
  },
  {
   "cell_type": "code",
   "execution_count": null,
   "id": "6ee02da4",
   "metadata": {},
   "outputs": [],
   "source": [
    "X_test_sm = sm.add_constant(X_test)"
   ]
  },
  {
   "cell_type": "code",
   "execution_count": null,
   "id": "da9d39d6",
   "metadata": {},
   "outputs": [],
   "source": [
    "X_test_rfe = X_test_sm[VIF['Features']]"
   ]
  },
  {
   "cell_type": "code",
   "execution_count": null,
   "id": "2415990c",
   "metadata": {},
   "outputs": [],
   "source": [
    "X_test_rfe"
   ]
  },
  {
   "cell_type": "code",
   "execution_count": null,
   "id": "2bba224b",
   "metadata": {},
   "outputs": [],
   "source": [
    "# predict\n",
    "y_test_pred = lr_model.predict(X_test_rfe)"
   ]
  },
  {
   "cell_type": "code",
   "execution_count": null,
   "id": "a8e95b94",
   "metadata": {},
   "outputs": [],
   "source": [
    "r2_score(y_true = y_test, y_pred = y_test_pred)"
   ]
  },
  {
   "attachments": {},
   "cell_type": "markdown",
   "id": "8fb71353",
   "metadata": {},
   "source": [
    "#### We can see that the equation of our best fitted line is:\n",
    "\n",
    "price = 1526.6774 + 13480 x carwidth + 12590 x horsepower + 9991.3 x A_class - 1488.43 x carbody_hatchback + 5112.75 x cylindernumber_three"
   ]
  },
  {
   "attachments": {},
   "cell_type": "markdown",
   "id": "ee750950",
   "metadata": {},
   "source": [
    "This equation implies how the price of the vehical changes with a unit change in any of these independent variable with all other variables held constant.\n",
    "For example we can say, the price of the car changes by 13480 for every unit change in the carwidth dimension if all other variables are held constant. And so is true for all other variables.\n",
    "The predictor carbody_convertible suggest that the price of car decreases by a factor of 1488.43 when the car body is hatchback.\n",
    "And the price of the car increases by 12590 for increase in unit of Horse power.\n",
    "The cylinder_number_three increases the car price by 5112.75\n",
    "The company name is also essensial in determining the price the automobile. A class companies names like, BMW, Buik, Porsche and Jaguar further adds up to the price by a factor of 9991.3."
   ]
  },
  {
   "cell_type": "code",
   "execution_count": null,
   "id": "eb382344",
   "metadata": {},
   "outputs": [],
   "source": [
    "CarPrices['price'].mean()"
   ]
  },
  {
   "attachments": {},
   "cell_type": "markdown",
   "id": "50b85f2c",
   "metadata": {},
   "source": [
    "#### Suggestions:\n",
    "The chinese company Geely Automotives entering the US market should consider the below listed points,\n",
    "\n",
    "Average US car price: 13000 USD(approx).\n",
    "For profitability and effective pricing of cars in this new market, the model's price predictors variables have to be regulated and balanced effectively to meet certain price levels and gain an edge over the other competitors."
   ]
  }
 ],
 "metadata": {
  "kernelspec": {
   "display_name": "Python 3 (ipykernel)",
   "language": "python",
   "name": "python3"
  },
  "language_info": {
   "codemirror_mode": {
    "name": "ipython",
    "version": 3
   },
   "file_extension": ".py",
   "mimetype": "text/x-python",
   "name": "python",
   "nbconvert_exporter": "python",
   "pygments_lexer": "ipython3",
   "version": "3.9.12"
  }
 },
 "nbformat": 4,
 "nbformat_minor": 5
}
